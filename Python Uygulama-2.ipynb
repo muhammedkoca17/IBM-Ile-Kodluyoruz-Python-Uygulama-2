{
 "cells": [
  {
   "cell_type": "code",
   "execution_count": 1,
   "metadata": {},
   "outputs": [
    {
     "name": "stdout",
     "output_type": "stream",
     "text": [
      "En kısa Öklid mesafesi: 2.8284271247461903\n"
     ]
    }
   ],
   "source": [
    "import math\n",
    "\n",
    "def euclideanDistance(point1, point2):\n",
    "  \"\"\"\n",
    "  İki nokta arasındaki Öklid mesafesini hesaplar.\n",
    "\n",
    "  Args:\n",
    "    point1: İlk nokta (x1, y1) tuple'ı.\n",
    "    point2: İkinci nokta (x2, y2) tuple'ı.\n",
    "\n",
    "  Returns:\n",
    "    İki nokta arasındaki Öklid mesafesi.\n",
    "  \"\"\"\n",
    "  x1, y1 = point1\n",
    "  x2, y2 = point2\n",
    "  return math.sqrt((x2 - x1)**2 + (y2 - y1)**2)\n",
    "\n",
    "def find_minimum_distance(points):\n",
    "  \"\"\"\n",
    "  Bir nokta listesindeki tüm çiftler arasındaki en kısa Öklid mesafesini bulur.\n",
    "\n",
    "  Args:\n",
    "    points: Noktaların listesi.\n",
    "\n",
    "  Returns:\n",
    "    En kısa Öklid mesafesi.\n",
    "  \"\"\"\n",
    "  distances = []\n",
    "  for i in range(len(points)):\n",
    "    for j in range(i+1, len(points)):\n",
    "      distance = euclideanDistance(points[i], points[j])\n",
    "      distances.append(distance)\n",
    "  return min(distances)\n",
    "\n",
    "# Örnek kullanım\n",
    "points = [(1, 2), (4, 3), (5, 6), (7, 8)]\n",
    "minimum_distance = find_minimum_distance(points)\n",
    "print(\"En kısa Öklid mesafesi:\", minimum_distance)"
   ]
  }
 ],
 "metadata": {
  "kernelspec": {
   "display_name": "Python 3",
   "language": "python",
   "name": "python3"
  },
  "language_info": {
   "codemirror_mode": {
    "name": "ipython",
    "version": 3
   },
   "file_extension": ".py",
   "mimetype": "text/x-python",
   "name": "python",
   "nbconvert_exporter": "python",
   "pygments_lexer": "ipython3",
   "version": "3.12.0"
  }
 },
 "nbformat": 4,
 "nbformat_minor": 2
}
